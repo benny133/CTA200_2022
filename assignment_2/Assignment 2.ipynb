{
 "cells": [
  {
   "cell_type": "markdown",
   "id": "828a2174",
   "metadata": {},
   "source": [
    "# Assignment 2"
   ]
  },
  {
   "cell_type": "markdown",
   "id": "d8e61619",
   "metadata": {},
   "source": [
    "### Part 1"
   ]
  },
  {
   "cell_type": "code",
   "execution_count": 3,
   "id": "aad88341",
   "metadata": {},
   "outputs": [],
   "source": [
    "def f(x):\n",
    "    \"\"\"Calculates the function f(x) = x^3 - x^2 -1\n",
    "    \n",
    "    Parameters:\n",
    "    -----------\n",
    "    x : array-like (float)\n",
    "    \n",
    "    Returns:\n",
    "    --------\n",
    "    f : array-like (float)\n",
    "        result of the function at x.\n",
    "    \"\"\"\n",
    "    \n",
    "    f = x**3 - x**2 - 1\n",
    "    return f\n",
    "\n",
    "\n",
    "def df(x):\n",
    "    \"\"\"Calculates the derivative of the function f(x) = x^3 - x^2 -1\n",
    "    \n",
    "    Parameters:\n",
    "    -----------\n",
    "    x : array-like (float)\n",
    "    \n",
    "    Returns:\n",
    "    --------\n",
    "    df : array-like (float)\n",
    "        the derivative of the function at x.\n",
    "    \"\"\"\n",
    "    df =  3*x**2 - 2*x\n",
    "    return df"
   ]
  },
  {
   "cell_type": "markdown",
   "id": "c4543f4a",
   "metadata": {},
   "source": [
    "### Part 2"
   ]
  },
  {
   "cell_type": "code",
   "execution_count": 4,
   "id": "e00810fa",
   "metadata": {},
   "outputs": [
    {
     "name": "stdout",
     "output_type": "stream",
     "text": [
      "Found root in 5 iterations.\n"
     ]
    },
    {
     "data": {
      "text/plain": [
       "1.4655713749070918"
      ]
     },
     "execution_count": 4,
     "metadata": {},
     "output_type": "execute_result"
    }
   ],
   "source": [
    "def newton(f, df, x0, epsilon=1e-6, max_iter=30):\n",
    "    \"\"\"Performs Newton Iteration of a function f\n",
    "    \n",
    "    Newton iteration finds the nearest root x_n such that f(x_n) = 0.\n",
    "    It does this by recursively evaluating x_(n+1) = x_n - f(x_n)/f'(x_n)\n",
    "    until max_iter is exceeded or f(x_n) < epsilon.\n",
    "    \n",
    "    Parameters:\n",
    "    -----------\n",
    "    f : function\n",
    "        The function to perform Newton Iteration over\n",
    "        \n",
    "    df: function\n",
    "        The derivative of f\n",
    "    \n",
    "    x0: float\n",
    "        the starting point\n",
    "        \n",
    "    epsilon : float\n",
    "        How close to 0 the interations must evalute to to be succesful\n",
    "    \n",
    "    max_iter : interger\n",
    "        the maximum nnumber of allowed iterations\n",
    "    \n",
    "    Returns:\n",
    "    --------\n",
    "    root : float -or- None\n",
    "        returns the root if found, else None\n",
    "        \n",
    "    \"\"\"\n",
    "    x = x0\n",
    "    for i in range(max_iter):\n",
    "        if abs(f(x)) < epsilon:\n",
    "            print(\"Found root in {:n} iterations.\".format(i))\n",
    "            return x\n",
    "        else:\n",
    "            x = x - f(x)/df(x)\n",
    "    print(\"Iteration failed\")\n",
    "    return None\n",
    "        \n",
    "newton(f, df, 1)    "
   ]
  },
  {
   "cell_type": "markdown",
   "id": "9f096f64",
   "metadata": {},
   "source": [
    "### Part 3"
   ]
  },
  {
   "cell_type": "code",
   "execution_count": 7,
   "id": "bf31dc35",
   "metadata": {},
   "outputs": [
    {
     "name": "stdout",
     "output_type": "stream",
     "text": [
      "Found root in 5 iterations.\n",
      "1.4655713749070918\n",
      "Found root in 12 iterations.\n",
      "1.465571489475598\n",
      "Now try with epsilon = 1e-8\n",
      "Found root in 6 iterations.\n",
      "1.4655712318767877\n",
      "Found root in 13 iterations.\n",
      "1.4655712318768321\n",
      "The new epsilon made each take 1 more iteration\n"
     ]
    }
   ],
   "source": [
    "print(newton(f, df, 1))\n",
    "\n",
    "print(newton(f, df, 40))\n",
    "\n",
    "print(\"Now try with epsilon = 1e-8\")\n",
    "\n",
    "print(newton(f, df, 1, epsilon=1e-8))\n",
    "\n",
    "print(newton(f, df, 40, epsilon=1e-8))\n",
    "\n",
    "print(\"The new epsilon made each take 1 more iteration\")"
   ]
  },
  {
   "cell_type": "code",
   "execution_count": null,
   "id": "11fe7aa4",
   "metadata": {},
   "outputs": [],
   "source": []
  },
  {
   "cell_type": "code",
   "execution_count": null,
   "id": "7bb8fd00",
   "metadata": {},
   "outputs": [],
   "source": []
  }
 ],
 "metadata": {
  "kernelspec": {
   "display_name": "Python 3 (ipykernel)",
   "language": "python",
   "name": "python3"
  },
  "language_info": {
   "codemirror_mode": {
    "name": "ipython",
    "version": 3
   },
   "file_extension": ".py",
   "mimetype": "text/x-python",
   "name": "python",
   "nbconvert_exporter": "python",
   "pygments_lexer": "ipython3",
   "version": "3.10.2"
  }
 },
 "nbformat": 4,
 "nbformat_minor": 5
}
